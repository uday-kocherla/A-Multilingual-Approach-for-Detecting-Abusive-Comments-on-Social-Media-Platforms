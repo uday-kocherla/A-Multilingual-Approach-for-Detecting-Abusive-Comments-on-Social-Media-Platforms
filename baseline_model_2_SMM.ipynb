{
  "cells": [
    {
      "cell_type": "code",
      "execution_count": null,
      "metadata": {
        "id": "6wCLxKjitd-c"
      },
      "outputs": [],
      "source": [
        "# Importing required libraries\n",
        "import pandas as pd\n",
        "import numpy as np\n",
        "import re\n",
        "import collections\n",
        "import matplotlib.pyplot as plt\n",
        "from pathlib import Path\n",
        "from sklearn.model_selection import train_test_split\n",
        "from nltk.corpus import stopwords\n",
        "from keras.preprocessing.text import Tokenizer\n",
        "from keras.utils import pad_sequences\n",
        "from keras.utils.np_utils import to_categorical\n",
        "from sklearn.preprocessing import LabelEncoder\n",
        "from keras import models\n",
        "from keras import layers"
      ]
    },
    {
      "cell_type": "code",
      "execution_count": null,
      "metadata": {
        "id": "GOkoyZG0rTFv"
      },
      "outputs": [],
      "source": [
        "# Mounting Google Drive\n",
        "from google.colab import drive\n",
        "drive.mount('/content/drive/')"
      ]
    },
    {
      "cell_type": "code",
      "execution_count": null,
      "metadata": {
        "id": "mMFsH8ENs0l3"
      },
      "outputs": [],
      "source": [
        "data_dir = \"/content/drive/MyDrive/Social Media Mining/SMM.csv\""
      ]
    },
    {
      "cell_type": "code",
      "execution_count": null,
      "metadata": {
        "id": "sCXabsqis8w5"
      },
      "outputs": [],
      "source": [
        "train_data = pd.read_csv(data_dir)"
      ]
    },
    {
      "cell_type": "code",
      "execution_count": null,
      "metadata": {
        "id": "1-tgtrkVtSe1"
      },
      "outputs": [],
      "source": [
        "train_data = train_data[['commentText','label']]"
      ]
    },
    {
      "cell_type": "code",
      "execution_count": null,
      "metadata": {
        "id": "-Xte8rzqs_gW"
      },
      "outputs": [],
      "source": [
        "from sklearn.model_selection import train_test_split\n",
        "X_train, X_test, y_train, y_test =train_test_split(train_data['commentText'], train_data['label'], test_size=0.1,random_state=123)"
      ]
    },
    {
      "cell_type": "code",
      "execution_count": null,
      "metadata": {
        "id": "6dCZaUB8tJ_E"
      },
      "outputs": [],
      "source": [
        "NB_WORDS = 10000  # Parameter indicating the number of words we'll put in the dictionary\n",
        "VAL_SIZE = 1000  # Size of the validation set\n",
        "NB_START_EPOCHS = 20  # Number of epochs we usually start to train with\n",
        "BATCH_SIZE = 512  # Size of the batches used in the mini-batch gradient descent\n",
        "MAX_LEN = 24  # Maximum number of words in a sequence\n",
        "GLOVE_DIM = 100  # Number of dimensions of the GloVe word embeddings\n",
        "root = Path('../')\n",
        "input_path = root / 'input/'\n",
        "ouput_path = root / 'output/'\n",
        "source_path = root / 'source/'"
      ]
    },
    {
      "cell_type": "code",
      "execution_count": null,
      "metadata": {
        "id": "D7bY6fvYtj1N"
      },
      "outputs": [],
      "source": [
        "tk = Tokenizer(num_words=NB_WORDS,\n",
        "filters='!\"#$%&()*+,-./:;<=>?@[\\]^_`{\"}~\\t\\n',lower=True, split=\" \")\n",
        "tk.fit_on_texts(X_train)\n",
        "X_train_seq = tk.texts_to_sequences(X_train)\n",
        "X_test_seq = tk.texts_to_sequences(X_test)"
      ]
    },
    {
      "cell_type": "code",
      "execution_count": null,
      "metadata": {
        "id": "AA8fTD3Ytm9Q"
      },
      "outputs": [],
      "source": [
        "X_train_seq_trunc = pad_sequences(X_train_seq, maxlen=MAX_LEN)\n",
        "X_test_seq_trunc = pad_sequences(X_test_seq, maxlen=MAX_LEN)"
      ]
    },
    {
      "cell_type": "code",
      "execution_count": null,
      "metadata": {
        "id": "80Zfx4-1tqPe"
      },
      "outputs": [],
      "source": [
        "le = LabelEncoder()\n",
        "y_train_le = le.fit_transform(y_train)\n",
        "y_test_le = le.transform(y_test)\n",
        "y_train_oh = to_categorical(y_train_le)\n",
        "y_test_oh = to_categorical(y_test_le)"
      ]
    },
    {
      "cell_type": "code",
      "execution_count": null,
      "metadata": {
        "id": "cP8GwfvTttc-"
      },
      "outputs": [],
      "source": [
        "X_train_emb, X_valid_emb, y_train_emb, y_valid_emb = train_test_split(X_train_seq_trunc, y_train_oh, test_size=0.1, random_state=37)"
      ]
    },
    {
      "cell_type": "code",
      "execution_count": null,
      "metadata": {
        "id": "TiVkXGtl1wdV"
      },
      "outputs": [],
      "source": [
        "# Method to train a multi-class model\n",
        "def deep_model(model, X_train, y_train, X_valid, y_valid):\n",
        "    model.compile(optimizer='rmsprop'\n",
        "                  , loss='categorical_crossentropy'\n",
        "                  , metrics=['accuracy'])\n",
        "    \n",
        "    history = model.fit(X_train\n",
        "                       , y_train\n",
        "                       , epochs=NB_START_EPOCHS\n",
        "                       , batch_size=BATCH_SIZE\n",
        "                       , validation_data=(X_valid, y_valid)\n",
        "                       , verbose=0)\n",
        "    return history\n",
        "\n",
        "# Method to evaluate a trained model on the chosen metric\n",
        "def eval_metric(history, metric_name):\n",
        "    metric = history.history[metric_name]\n",
        "    val_metric = history.history['val_' + metric_name]\n",
        "\n",
        "    e = range(1, NB_START_EPOCHS + 1)\n",
        "\n",
        "    plt.plot(e, metric, 'bo', label='Train ' + metric_name)\n",
        "    plt.plot(e, val_metric, 'b', label='Validation ' + metric_name)\n",
        "    plt.legend()\n",
        "    plt.show()\n",
        "\n",
        "# Method to test the model on new data after training full train data\n",
        "def test_model(model, X_train, y_train, X_test, y_test, epoch_stop):\n",
        "    model.fit(X_train\n",
        "              , y_train\n",
        "              , epochs=epoch_stop\n",
        "              , batch_size=BATCH_SIZE\n",
        "              , verbose=0)\n",
        "    results = model.evaluate(X_test, y_test)\n",
        "    \n",
        "    return results\n"
      ]
    },
    {
      "cell_type": "code",
      "execution_count": null,
      "metadata": {
        "id": "5C-x4pfD4Pa7"
      },
      "outputs": [],
      "source": [
        "NB_START_EPOCHS = 10\n",
        "emb_model = models.Sequential()\n",
        "emb_model.add(layers.Embedding(NB_WORDS, 8, input_length=MAX_LEN))\n",
        "\n",
        "emb_model.add(layers.Flatten())\n",
        "emb_model.add(layers.Dense(2, activation='softmax'))\n",
        "\n",
        "emb_model.compile(optimizer='rmsprop'\n",
        "                  , loss='categorical_crossentropy'\n",
        "                  , metrics=['accuracy'])\n",
        "history = emb_model.fit(X_train_emb\n",
        "                       , y_train_emb\n",
        "                       , epochs=NB_START_EPOCHS\n",
        "                       , batch_size=BATCH_SIZE\n",
        "                       , validation_data=(X_valid_emb, y_valid_emb)\n",
        "                       , verbose=0)"
      ]
    },
    {
      "cell_type": "code",
      "execution_count": null,
      "metadata": {
        "colab": {
          "base_uri": "https://localhost:8080/",
          "height": 430
        },
        "id": "0F-4zYwP4VIU",
        "outputId": "57b0366e-87cb-4a84-896c-9518fac6469f"
      },
      "outputs": [
        {
          "data": {
            "image/png": "[encoded data removed]",
            "text/plain": [
              "<Figure size 640x480 with 1 Axes>"
            ]
          },
          "metadata": {},
          "output_type": "display_data"
        }
      ],
      "source": [
        "eval_metric(history, 'accuracy')"
      ]
    },
    {
      "cell_type": "code",
      "execution_count": null,
      "metadata": {
        "colab": {
          "base_uri": "https://localhost:8080/"
        },
        "id": "kpFmONbl4Xop",
        "outputId": "e0133683-8fa0-4d98-a106-ce9585862779"
      },
      "outputs": [
        {
          "name": "stdout",
          "output_type": "stream",
          "text": [
            "1871/1871 [==============================] - 6s 3ms/step - loss: 0.3989 - accuracy: 0.8298\n"
          ]
        }
      ],
      "source": [
        "results = emb_model.evaluate(X_valid_emb, y_valid_emb)"
      ]
    },
    {
      "cell_type": "code",
      "execution_count": null,
      "metadata": {
        "colab": {
          "base_uri": "https://localhost:8080/"
        },
        "id": "9G5N4uigKDPL",
        "outputId": "a9e4abdb-2641-4a42-d97c-02e1f635af42"
      },
      "outputs": [
        {
          "name": "stdout",
          "output_type": "stream",
          "text": [
            "1871/1871 [==============================] - 3s 1ms/step\n",
            "Classification report for Model 2a:\n",
            "              precision    recall  f1-score   support\n",
            "\n",
            "           0       0.82      0.87      0.84     31758\n",
            "           1       0.84      0.79      0.81     28096\n",
            "\n",
            "    accuracy                           0.83     59854\n",
            "   macro avg       0.83      0.83      0.83     59854\n",
            "weighted avg       0.83      0.83      0.83     59854\n",
            "\n"
          ]
        }
      ],
      "source": [
        "y_pred = emb_model.predict(X_valid_emb)\n",
        "y_pred = np.argmax(y_pred, axis=1)\n",
        "y_true = y_valid_emb\n",
        "y_true = np.argmax(y_true, axis=1)\n",
        "from sklearn.metrics import classification_report\n",
        "print('Classification report for Model 2a:')\n",
        "print(classification_report(y_true, y_pred))"
      ]
    },
    {
      "cell_type": "code",
      "execution_count": null,
      "metadata": {
        "id": "Kyg7wm9ntwJO"
      },
      "outputs": [],
      "source": [
        "NB_START_EPOCHS = 20\n",
        "emb_model = models.Sequential()\n",
        "emb_model.add(layers.Embedding(NB_WORDS, 8, input_length=MAX_LEN))\n",
        "emb_model.add(layers.Flatten())\n",
        "emb_model.add(layers.Dense(2, activation='softmax'))\n",
        "\n",
        "emb_model.compile(optimizer='rmsprop'\n",
        "                  , loss='categorical_crossentropy'\n",
        "                  , metrics=['accuracy'])\n",
        "history = emb_model.fit(X_train_emb, \n",
        "                        y_train_emb, \n",
        "                        epochs = NB_START_EPOCHS, \n",
        "                        batch_size = BATCH_SIZE, \n",
        "                        validation_data = (X_valid_emb, y_valid_emb), \n",
        "                        verbose = 0)"
      ]
    },
    {
      "cell_type": "code",
      "execution_count": null,
      "metadata": {
        "colab": {
          "base_uri": "https://localhost:8080/",
          "height": 430
        },
        "id": "FjxgxlMN1X-O",
        "outputId": "dd899c0c-0fe2-450c-c4cb-5f72e5d6c002"
      },
      "outputs": [
        {
          "data": {
            "image/png": "[encoded data removed]",
            "text/plain": [
              "<Figure size 640x480 with 1 Axes>"
            ]
          },
          "metadata": {},
          "output_type": "display_data"
        }
      ],
      "source": [
        "eval_metric(history, 'accuracy')"
      ]
    },
    {
      "cell_type": "code",
      "execution_count": null,
      "metadata": {
        "colab": {
          "base_uri": "https://localhost:8080/"
        },
        "id": "-lec7Qd22LwQ",
        "outputId": "4ef73727-8765-4b5e-b31b-e82831a50988"
      },
      "outputs": [
        {
          "name": "stdout",
          "output_type": "stream",
          "text": [
            "1871/1871 [==============================] - 5s 3ms/step - loss: 0.4291 - accuracy: 0.8225\n"
          ]
        }
      ],
      "source": [
        "results = emb_model.evaluate(X_valid_emb, y_valid_emb)"
      ]
    },
    {
      "cell_type": "code",
      "execution_count": null,
      "metadata": {
        "colab": {
          "base_uri": "https://localhost:8080/"
        },
        "id": "lJB7AmrHKBtq",
        "outputId": "557281a4-5362-44dd-956a-39e73acc0544"
      },
      "outputs": [
        {
          "name": "stdout",
          "output_type": "stream",
          "text": [
            "1871/1871 [==============================] - 3s 1ms/step\n",
            "Classification report for Model 2a:\n",
            "              precision    recall  f1-score   support\n",
            "\n",
            "           0       0.80      0.89      0.84     31758\n",
            "           1       0.86      0.75      0.80     28096\n",
            "\n",
            "    accuracy                           0.82     59854\n",
            "   macro avg       0.83      0.82      0.82     59854\n",
            "weighted avg       0.83      0.82      0.82     59854\n",
            "\n"
          ]
        }
      ],
      "source": [
        "y_pred = emb_model.predict(X_valid_emb)\n",
        "y_pred = np.argmax(y_pred, axis=1)\n",
        "y_true = y_valid_emb\n",
        "y_true = np.argmax(y_true, axis=1)\n",
        "from sklearn.metrics import classification_report\n",
        "print('Classification report for Model 2a:')\n",
        "print(classification_report(y_true, y_pred))"
      ]
    },
    {
      "cell_type": "code",
      "execution_count": null,
      "metadata": {
        "id": "N9GgLTj3Bq2R"
      },
      "outputs": [],
      "source": [
        "from keras.layers import Bidirectional, BatchNormalization\n",
        "from keras.layers import LSTM"
      ]
    },
    {
      "cell_type": "code",
      "execution_count": null,
      "metadata": {
        "id": "ptZ0uPgs_D4c"
      },
      "outputs": [],
      "source": [
        "NB_START_EPOCHS = 10\n",
        "emb_model = models.Sequential()\n",
        "emb_model.add(layers.Embedding(NB_WORDS, 8, input_length=MAX_LEN))\n",
        "emb_model.add(Bidirectional(LSTM(128)))\n",
        "emb_model.add(BatchNormalization())\n",
        "emb_model.add(layers.Flatten())\n",
        "emb_model.add(layers.Dense(2, activation='softmax'))\n",
        "\n",
        "emb_model.compile(optimizer = 'rmsprop', loss = 'categorical_crossentropy', metrics = ['accuracy'])\n",
        "history = emb_model.fit(X_train_emb, \n",
        "                        y_train_emb, \n",
        "                        epochs = NB_START_EPOCHS, \n",
        "                        batch_size = BATCH_SIZE, \n",
        "                        validation_data = (X_valid_emb, y_valid_emb), \n",
        "                        verbose = 0)"
      ]
    },
    {
      "cell_type": "code",
      "execution_count": null,
      "metadata": {
        "colab": {
          "base_uri": "https://localhost:8080/",
          "height": 434
        },
        "id": "0G3Xde9oD4IY",
        "outputId": "263d1705-ebbe-4feb-a9ab-dacf8783e4b6"
      },
      "outputs": [
        {
          "data": {
            "image/png": "[encoded data removed]",
            "text/plain": [
              "<Figure size 640x480 with 1 Axes>"
            ]
          },
          "metadata": {},
          "output_type": "display_data"
        }
      ],
      "source": [
        "eval_metric(history, 'accuracy')"
      ]
    },
    {
      "cell_type": "code",
      "execution_count": null,
      "metadata": {
        "colab": {
          "base_uri": "https://localhost:8080/"
        },
        "id": "RyuRvVv1Ci0h",
        "outputId": "e5acaef5-a819-4277-b063-6b8a3d563f1b"
      },
      "outputs": [
        {
          "name": "stdout",
          "output_type": "stream",
          "text": [
            "1871/1871 [==============================] - 9s 5ms/step - loss: 0.3882 - accuracy: 0.8335\n"
          ]
        }
      ],
      "source": [
        "results = emb_model.evaluate(X_valid_emb, y_valid_emb)"
      ]
    },
    {
      "cell_type": "code",
      "execution_count": null,
      "metadata": {
        "colab": {
          "base_uri": "https://localhost:8080/"
        },
        "id": "tAR391ewJ9uX",
        "outputId": "71c01422-804b-4ae8-cf0e-aaac609da1c8"
      },
      "outputs": [
        {
          "name": "stdout",
          "output_type": "stream",
          "text": [
            "1871/1871 [==============================] - 6s 3ms/step\n",
            "Classification report for Model 2c:\n",
            "              precision    recall  f1-score   support\n",
            "\n",
            "           0       0.81      0.89      0.85     31758\n",
            "           1       0.86      0.77      0.81     28096\n",
            "\n",
            "    accuracy                           0.83     59854\n",
            "   macro avg       0.84      0.83      0.83     59854\n",
            "weighted avg       0.84      0.83      0.83     59854\n",
            "\n"
          ]
        }
      ],
      "source": [
        "y_pred = emb_model.predict(X_valid_emb)\n",
        "y_pred = np.argmax(y_pred, axis=1)\n",
        "y_true = y_valid_emb\n",
        "y_true = np.argmax(y_true, axis=1)\n",
        "from sklearn.metrics import classification_report\n",
        "print('Classification report for Model 2c:')\n",
        "print(classification_report(y_true, y_pred))"
      ]
    },
    {
      "cell_type": "code",
      "execution_count": null,
      "metadata": {
        "id": "wF2nvx0jDzXT"
      },
      "outputs": [],
      "source": [
        "NB_START_EPOCHS = 20\n",
        "emb_model = models.Sequential()\n",
        "emb_model.add(layers.Embedding(NB_WORDS, 8, input_length=MAX_LEN))\n",
        "emb_model.add(Bidirectional(LSTM(128)))\n",
        "emb_model.add(BatchNormalization())\n",
        "emb_model.add(layers.Flatten())\n",
        "emb_model.add(layers.Dense(2, activation='softmax'))\n",
        "\n",
        "emb_model.compile(optimizer='rmsprop'\n",
        "                  , loss='categorical_crossentropy'\n",
        "                  , metrics=['accuracy'])\n",
        "history = emb_model.fit(X_train_emb, \n",
        "                        y_train_emb, \n",
        "                        epochs = NB_START_EPOCHS, \n",
        "                        batch_size = BATCH_SIZE, \n",
        "                        validation_data = (X_valid_emb, y_valid_emb), \n",
        "                        verbose = 0)"
      ]
    },
    {
      "cell_type": "code",
      "execution_count": null,
      "metadata": {
        "colab": {
          "base_uri": "https://localhost:8080/",
          "height": 430
        },
        "id": "n3J17PQxd9f5",
        "outputId": "a1f75938-e8be-4c0c-ed6e-616388c23e6b"
      },
      "outputs": [
        {
          "data": {
            "image/png": "[encoded data removed]",
            "text/plain": [
              "<Figure size 640x480 with 1 Axes>"
            ]
          },
          "metadata": {},
          "output_type": "display_data"
        }
      ],
      "source": [
        "eval_metric(history, 'accuracy')"
      ]
    },
    {
      "cell_type": "code",
      "execution_count": null,
      "metadata": {
        "colab": {
          "base_uri": "https://localhost:8080/"
        },
        "id": "qNJHlh-XD82R",
        "outputId": "d4fc22fe-4f7a-47ef-d961-695d01acf643"
      },
      "outputs": [
        {
          "name": "stdout",
          "output_type": "stream",
          "text": [
            "1871/1871 [==============================] - 9s 5ms/step - loss: 0.3982 - accuracy: 0.8319\n"
          ]
        }
      ],
      "source": [
        "results = emb_model.evaluate(X_valid_emb, y_valid_emb)"
      ]
    },
    {
      "cell_type": "code",
      "execution_count": null,
      "metadata": {
        "colab": {
          "base_uri": "https://localhost:8080/"
        },
        "id": "nCoBLy9sJ2lS",
        "outputId": "ecf90589-94ad-42b1-eabb-77e25dfec483"
      },
      "outputs": [
        {
          "name": "stdout",
          "output_type": "stream",
          "text": [
            "1871/1871 [==============================] - 6s 3ms/step\n",
            "Classification report for Model 2c:\n",
            "              precision    recall  f1-score   support\n",
            "\n",
            "           0       0.81      0.89      0.85     31758\n",
            "           1       0.86      0.77      0.81     28096\n",
            "\n",
            "    accuracy                           0.83     59854\n",
            "   macro avg       0.84      0.83      0.83     59854\n",
            "weighted avg       0.83      0.83      0.83     59854\n",
            "\n"
          ]
        }
      ],
      "source": [
        "y_pred = emb_model.predict(X_valid_emb)\n",
        "y_pred = np.argmax(y_pred, axis=1)\n",
        "y_true = y_valid_emb\n",
        "y_true = np.argmax(y_true, axis=1)\n",
        "from sklearn.metrics import classification_report\n",
        "print('Classification report for Model 2c:')\n",
        "print(classification_report(y_true, y_pred))"
      ]
    },
    {
      "cell_type": "code",
      "execution_count": null,
      "metadata": {
        "id": "RbuhbUA2ibVO"
      },
      "outputs": [],
      "source": [
        "NB_START_EPOCHS = 3\n",
        "emb_model2 = models.Sequential()\n",
        "emb_model2.add(layers.Embedding(NB_WORDS, GLOVE_DIM, input_length=MAX_LEN))\n",
        "emb_model2.add(Bidirectional(LSTM(128)))\n",
        "emb_model2.add(BatchNormalization())\n",
        "emb_model2.add(layers.Flatten())\n",
        "emb_model2.add(layers.Dense(2, activation='softmax'))\n",
        "emb_model2.compile(optimizer='rmsprop'\n",
        "                  , loss='categorical_crossentropy'\n",
        "                  , metrics=['accuracy'])\n",
        "history = emb_model.fit(X_train_emb, \n",
        "                        y_train_emb, \n",
        "                        epochs = NB_START_EPOCHS, \n",
        "                        batch_size = BATCH_SIZE, \n",
        "                        validation_data = (X_valid_emb, y_valid_emb), \n",
        "                        verbose = 0)"
      ]
    },
    {
      "cell_type": "code",
      "execution_count": null,
      "metadata": {
        "colab": {
          "base_uri": "https://localhost:8080/",
          "height": 430
        },
        "id": "s74MrxV0iyNP",
        "outputId": "fb4c9f1e-e699-461b-9b62-901ef97536eb"
      },
      "outputs": [
        {
          "data": {
            "image/png": "[encoded data removed]",
            "text/plain": [
              "<Figure size 640x480 with 1 Axes>"
            ]
          },
          "metadata": {},
          "output_type": "display_data"
        }
      ],
      "source": [
        "eval_metric(history, 'accuracy')"
      ]
    },
    {
      "cell_type": "code",
      "execution_count": null,
      "metadata": {
        "colab": {
          "base_uri": "https://localhost:8080/"
        },
        "id": "qCTWMWytjEvl",
        "outputId": "d396400b-8535-4b97-a08f-923e9906b193"
      },
      "outputs": [
        {
          "name": "stdout",
          "output_type": "stream",
          "text": [
            "1871/1871 [==============================] - 9s 5ms/step - loss: 0.4093 - accuracy: 0.8274\n"
          ]
        }
      ],
      "source": [
        "results = emb_model2.evaluate(X_valid_emb, y_valid_emb)"
      ]
    },
    {
      "cell_type": "code",
      "execution_count": null,
      "metadata": {
        "colab": {
          "base_uri": "https://localhost:8080/"
        },
        "id": "K9s16MNkJXlV",
        "outputId": "052c961a-c574-4062-f76e-d36fef9e82b2"
      },
      "outputs": [
        {
          "name": "stdout",
          "output_type": "stream",
          "text": [
            "1871/1871 [==============================] - 6s 3ms/step\n",
            "Classification report for Model 2b:\n",
            "              precision    recall  f1-score   support\n",
            "\n",
            "           0       0.79      0.93      0.85     31758\n",
            "           1       0.90      0.71      0.79     28096\n",
            "\n",
            "    accuracy                           0.83     59854\n",
            "   macro avg       0.84      0.82      0.82     59854\n",
            "weighted avg       0.84      0.83      0.82     59854\n",
            "\n"
          ]
        }
      ],
      "source": [
        "y_pred = emb_model2.predict(X_valid_emb)\n",
        "y_pred = np.argmax(y_pred, axis=1)\n",
        "y_true = y_valid_emb\n",
        "y_true = np.argmax(y_true, axis=1)\n",
        "from sklearn.metrics import classification_report\n",
        "print('Classification report for Model 2b:')\n",
        "print(classification_report(y_true, y_pred))"
      ]
    }
  ],
  "metadata": {
    "accelerator": "GPU",
    "colab": {
      "machine_shape": "hm",
      "provenance": []
    },
    "kernelspec": {
      "display_name": "Python 3",
      "name": "python3"
    },
    "language_info": {
      "name": "python"
    }
  },
  "nbformat": 4,
  "nbformat_minor": 0
}
